{
  "nbformat": 4,
  "nbformat_minor": 0,
  "metadata": {
    "colab": {
      "name": "Shoes Detection.ipynb",
      "provenance": [],
      "authorship_tag": "ABX9TyOjlk5MfZzo6/M2uwIrfTeB",
      "include_colab_link": true
    },
    "kernelspec": {
      "name": "python3",
      "display_name": "Python 3"
    }
  },
  "cells": [
    {
      "cell_type": "markdown",
      "metadata": {
        "id": "view-in-github",
        "colab_type": "text"
      },
      "source": [
        "<a href=\"https://colab.research.google.com/github/Sakshi-Niranjan-Kulkarni/-datasciencecoursera/blob/master/Shoes_Detection.ipynb\" target=\"_parent\"><img src=\"https://colab.research.google.com/assets/colab-badge.svg\" alt=\"Open In Colab\"/></a>"
      ]
    },
    {
      "cell_type": "code",
      "metadata": {
        "id": "qOvGU2UT7SAb",
        "colab_type": "code",
        "colab": {}
      },
      "source": [
        "# importing required libraries\n",
        "\n",
        "import numpy as np \n",
        "import pandas as pd \n",
        "import os\n",
        "import cv2\n",
        "from sklearn.utils import shuffle"
      ],
      "execution_count": null,
      "outputs": []
    },
    {
      "cell_type": "code",
      "metadata": {
        "id": "6Z16YkoQ7pRp",
        "colab_type": "code",
        "colab": {}
      },
      "source": [
        "# path to downloaded images folder\n",
        "datadir = \"/content/Dataset\""
      ],
      "execution_count": 2,
      "outputs": []
    },
    {
      "cell_type": "code",
      "metadata": {
        "id": "4zPAG6np8CmZ",
        "colab_type": "code",
        "colab": {}
      },
      "source": [
        "# importing the csv file into pandas dataframe\n",
        "\n",
        "df = pd.read_csv(\"\n"
      ],
      "execution_count": null,
      "outputs": []
    },
    {
      "cell_type": "markdown",
      "metadata": {
        "id": "kqHTh5xrHzQF",
        "colab_type": "text"
      },
      "source": [
        ""
      ]
    },
    {
      "cell_type": "code",
      "metadata": {
        "id": "6ZhIw-9n8NPF",
        "colab_type": "code",
        "colab": {}
      },
      "source": [
        "# selecting required columns and removing null values\n",
        "\n",
        "id_class = df[['id','view_2','class']]\n",
        "id_class=id_class.dropna()\n",
        "\n",
        "ID = id_class['id']\n",
        "label = id_class['class']\n",
        "length = len(id_class['class'])\n",
        "print(length)\n"
      ],
      "execution_count": null,
      "outputs": []
    },
    {
      "cell_type": "code",
      "metadata": {
        "id": "-PZWPo4o8YEs",
        "colab_type": "code",
        "colab": {}
      },
      "source": [
        "# assigning integer values to all unique categories\n",
        "\n",
        "label=label.map({'zipper':'0','backstrap':1,'slip_on':2,'lace_up':3,'buckle':4,'hook&look':5})\n",
        "\n",
        "label=np.array(label,dtype=int)\n",
        "\n",
        "\n",
        "labels=[]\n",
        "\n",
        "\n",
        "count=0\n",
        "c=0\n"
      ],
      "execution_count": null,
      "outputs": []
    },
    {
      "cell_type": "code",
      "metadata": {
        "id": "x-7aUafz8et-",
        "colab_type": "code",
        "colab": {}
      },
      "source": [
        "# creating a 3D numpy array to store the images\n",
        "\n",
        "data = np.zeros(shape=(0,0,0))\n",
        "for i in ID:\n",
        "\n",
        "\timage_path = os.path.join(datadir,i)\n",
        "\tif os.path.exists(image_path):\n",
        "\t\timg = cv2.imread(os.path.join(datadir,i),cv2.IMREAD_GRAYSCALE)\n",
        "\t\timg = cv2.resize(img,(128,128))\n",
        "\t\tdata = np.append(data,img)\n",
        "\t\tlabels.append(label[c])\n",
        "\t\tc=c+1\n",
        "\t\tcount=count+1\n",
        "\telse:\n",
        "\t\tprint(i) \n",
        "\t\tc=c+1\n",
        "\n",
        "\n",
        "\n",
        "len_data= count\n",
        "data = data.reshape(len_data,128,128) \n",
        "\n",
        "print(data.shape)\n",
        "\n",
        "lab_count = len(labels)\n",
        "\n",
        "print(lab_count)"
      ],
      "execution_count": null,
      "outputs": []
    },
    {
      "cell_type": "code",
      "metadata": {
        "id": "WZ69vynZ8nNo",
        "colab_type": "code",
        "colab": {}
      },
      "source": [
        "# Converting the integer labels to one hot encoded arrays for training the CNN\n",
        "\n",
        "labels = np.array(labels,dtype=int)\n",
        "temp= np.zeros((lab_count,6))\n",
        "temp[np.arange(lab_count),labels]=1\n",
        "labels = temp\n",
        "labels = np.array(labels,dtype=int)\n",
        "\n",
        "\n",
        "\n",
        "\n",
        "x,y = shuffle(data,labels)\n",
        "\n",
        "print(x)\n",
        "print(x.shape)\n",
        "print(y)\n",
        "print(y.shape)\n",
        "\n"
      ],
      "execution_count": null,
      "outputs": []
    },
    {
      "cell_type": "code",
      "metadata": {
        "id": "f_N7SPya8r27",
        "colab_type": "code",
        "colab": {}
      },
      "source": [
        "# saving the numpy files with image and label data\n",
        "\n",
        "np.save('.../filename.npy',x)\n",
        "np.save('.../filename.npy',y)\n",
        "\n"
      ],
      "execution_count": null,
      "outputs": []
    },
    {
      "cell_type": "code",
      "metadata": {
        "id": "s1J-8sDC8x9e",
        "colab_type": "code",
        "colab": {}
      },
      "source": [
        "# To load\n",
        "# data = np.load('filename.npy')\n"
      ],
      "execution_count": null,
      "outputs": []
    }
  ]
}